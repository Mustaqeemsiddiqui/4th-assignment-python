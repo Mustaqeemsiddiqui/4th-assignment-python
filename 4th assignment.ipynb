{
 "cells": [
  {
   "cell_type": "code",
   "execution_count": 20,
   "id": "c2f0d5c8-6f14-4750-8508-35dc478a3cbb",
   "metadata": {},
   "outputs": [],
   "source": [
    "#Q1.Create a Python program to sort the given list of tuples based on integer value using a lambda function.\n",
    "#[('Sachin Tendulkar',34357).('Ricky Ponting',27483),('Jack Kallis',25534),('Virat Kohli',24936)]"
   ]
  },
  {
   "cell_type": "code",
   "execution_count": 21,
   "id": "8f0183e0-6a08-4f74-aefc-1520008d3081",
   "metadata": {},
   "outputs": [],
   "source": [
    "l=[('Sachin Tendulkar',34357),('Ricky Ponting',27483),('Jack Kallis',25534),('Virat Kohli',24936)]"
   ]
  },
  {
   "cell_type": "code",
   "execution_count": 22,
   "id": "3b7f5870-4e76-4cea-9c6b-50ccbffe9fcb",
   "metadata": {},
   "outputs": [
    {
     "data": {
      "text/plain": [
       "[('Virat Kohli', 24936),\n",
       " ('Jack Kallis', 25534),\n",
       " ('Ricky Ponting', 27483),\n",
       " ('Sachin Tendulkar', 34357)]"
      ]
     },
     "execution_count": 22,
     "metadata": {},
     "output_type": "execute_result"
    }
   ],
   "source": [
    "#ans\n",
    "sorted(l, key= lambda x: x[1])"
   ]
  },
  {
   "cell_type": "code",
   "execution_count": 23,
   "id": "9b1b97e1-453e-4432-aa6a-a0d3c792c1a7",
   "metadata": {},
   "outputs": [
    {
     "data": {
      "text/plain": [
       "[('Jack Kallis', 25534),\n",
       " ('Ricky Ponting', 27483),\n",
       " ('Sachin Tendulkar', 34357),\n",
       " ('Virat Kohli', 24936)]"
      ]
     },
     "execution_count": 23,
     "metadata": {},
     "output_type": "execute_result"
    }
   ],
   "source": [
    "sorted(l, key= lambda x: x[0])"
   ]
  },
  {
   "cell_type": "code",
   "execution_count": 24,
   "id": "f1949482-d3e6-48ef-8201-1c05e4ec7c0e",
   "metadata": {},
   "outputs": [],
   "source": [
    "#Q2. Write a Python program to find the squares of all the numbers in the given list of integers using lambda and map functions[1,2,3,4,5,6,7,8,9,10]."
   ]
  },
  {
   "cell_type": "code",
   "execution_count": 25,
   "id": "e9def721-6581-4775-86dc-f6f0fd45be36",
   "metadata": {},
   "outputs": [],
   "source": [
    "#ans:\n",
    "l1=[1,2,3,4,5,6,7,8,9,10]"
   ]
  },
  {
   "cell_type": "code",
   "execution_count": 26,
   "id": "b4918f68-aa48-4fa5-b610-9c9ee9a168ba",
   "metadata": {},
   "outputs": [],
   "source": [
    "def sq(x):\n",
    "    return x**2"
   ]
  },
  {
   "cell_type": "code",
   "execution_count": 27,
   "id": "245430b5-3eec-4711-8092-8075c258031f",
   "metadata": {},
   "outputs": [
    {
     "data": {
      "text/plain": [
       "[1, 4, 9, 16, 25, 36, 49, 64, 81, 100]"
      ]
     },
     "execution_count": 27,
     "metadata": {},
     "output_type": "execute_result"
    }
   ],
   "source": [
    "# using map function\n",
    "list(map(sq,l1))"
   ]
  },
  {
   "cell_type": "code",
   "execution_count": 28,
   "id": "34d3482f-fd6c-43c0-993b-a04f2cd8c1c0",
   "metadata": {},
   "outputs": [
    {
     "data": {
      "text/plain": [
       "[1, 4, 9, 16, 25, 36, 49, 64, 81, 100]"
      ]
     },
     "execution_count": 28,
     "metadata": {},
     "output_type": "execute_result"
    }
   ],
   "source": [
    "# using lambda function\n",
    "list(map(lambda x:x**2,l1))"
   ]
  },
  {
   "cell_type": "code",
   "execution_count": 29,
   "id": "d20fccaa-0e83-47af-838e-1e078b005acc",
   "metadata": {},
   "outputs": [],
   "source": [
    "#Q3.Write a Python program to convert the given list of integers into a tuple of strings .use map and lambda functions\n",
    "# given string :[1,2,3,4,5,6,7,8,9,10]\n",
    "# expected output :('1','2','3','4','5','6','7','8','9','10')"
   ]
  },
  {
   "cell_type": "code",
   "execution_count": 30,
   "id": "b9ce2c16-ba86-4024-ad51-e6d7ced68f84",
   "metadata": {},
   "outputs": [],
   "source": [
    "l2=[1,2,3,4,5,6,7,8,9,10]"
   ]
  },
  {
   "cell_type": "code",
   "execution_count": 31,
   "id": "85e8423b-c64b-4008-95be-ba447bbdf0c1",
   "metadata": {},
   "outputs": [],
   "source": [
    "l3=list(map(lambda x:str(x),l2))"
   ]
  },
  {
   "cell_type": "code",
   "execution_count": 32,
   "id": "56fd5030-82e6-4234-b35b-f5a24d0367ba",
   "metadata": {},
   "outputs": [
    {
     "data": {
      "text/plain": [
       "['1', '2', '3', '4', '5', '6', '7', '8', '9', '10']"
      ]
     },
     "execution_count": 32,
     "metadata": {},
     "output_type": "execute_result"
    }
   ],
   "source": [
    "l3"
   ]
  },
  {
   "cell_type": "code",
   "execution_count": 33,
   "id": "6d1cc7c6-b6a4-4701-87cf-2abb8171955f",
   "metadata": {},
   "outputs": [],
   "source": [
    "#Q4.Write a python program using reduce function to compute the product of a list containing numbers from 1 to 25"
   ]
  },
  {
   "cell_type": "code",
   "execution_count": 53,
   "id": "ccf0b7bf-cb69-41ec-ab90-a1eda0d2f2a0",
   "metadata": {},
   "outputs": [],
   "source": [
    "l4=list(range(1,26))\n",
    "from functools import reduce"
   ]
  },
  {
   "cell_type": "code",
   "execution_count": 54,
   "id": "6a64a916-dcc4-4190-9a93-41139cfbf7c9",
   "metadata": {},
   "outputs": [
    {
     "data": {
      "text/plain": [
       "15511210043330985984000000"
      ]
     },
     "execution_count": 54,
     "metadata": {},
     "output_type": "execute_result"
    }
   ],
   "source": [
    "reduce(lambda x,y:x*y,l4)"
   ]
  },
  {
   "cell_type": "code",
   "execution_count": 36,
   "id": "fb44ca9c-e09b-412c-bcb0-800bccf3733a",
   "metadata": {},
   "outputs": [],
   "source": [
    "#Q5.Write a python program to filter the numbers in a given list that are divisible by 2 and 3 using the filter function\n",
    "#[2,3,6,9,27,60,90,120,55,46]"
   ]
  },
  {
   "cell_type": "code",
   "execution_count": 37,
   "id": "bbfd31f3-80f0-44be-9d93-b32b04611a77",
   "metadata": {},
   "outputs": [],
   "source": [
    "#ans:\n",
    "l5=[2,3,6,9,27,60,90,120,55,46]\n",
    "l6=list(filter(lambda x:x%2==0 ,l5))"
   ]
  },
  {
   "cell_type": "code",
   "execution_count": 38,
   "id": "b4ee50c9-b10d-4e90-90d3-2cab62d2de5c",
   "metadata": {},
   "outputs": [
    {
     "data": {
      "text/plain": [
       "[2, 6, 60, 90, 120, 46]"
      ]
     },
     "execution_count": 38,
     "metadata": {},
     "output_type": "execute_result"
    }
   ],
   "source": [
    "l6"
   ]
  },
  {
   "cell_type": "code",
   "execution_count": 39,
   "id": "073fa0eb-68ad-4a43-8475-79397625cc80",
   "metadata": {},
   "outputs": [],
   "source": [
    "l7=list(filter(lambda x:x%3==0,l5))"
   ]
  },
  {
   "cell_type": "code",
   "execution_count": 40,
   "id": "1df235cf-0237-432d-bcab-d997c51910ae",
   "metadata": {},
   "outputs": [
    {
     "data": {
      "text/plain": [
       "[3, 6, 9, 27, 60, 90, 120]"
      ]
     },
     "execution_count": 40,
     "metadata": {},
     "output_type": "execute_result"
    }
   ],
   "source": [
    "l7"
   ]
  },
  {
   "cell_type": "code",
   "execution_count": 36,
   "id": "f6a981c6-23ee-4ec0-bada-d66eea8030ad",
   "metadata": {},
   "outputs": [
    {
     "ename": "TypeError",
     "evalue": "<lambda>() missing 1 required positional argument: 'y'",
     "output_type": "error",
     "traceback": [
      "\u001b[0;31m---------------------------------------------------------------------------\u001b[0m",
      "\u001b[0;31mTypeError\u001b[0m                                 Traceback (most recent call last)",
      "Cell \u001b[0;32mIn[36], line 1\u001b[0m\n\u001b[0;32m----> 1\u001b[0m l8\u001b[38;5;241m=\u001b[39m\u001b[38;5;28;43mlist\u001b[39;49m\u001b[43m(\u001b[49m\u001b[38;5;28;43mfilter\u001b[39;49m\u001b[43m(\u001b[49m\u001b[38;5;28;43;01mlambda\u001b[39;49;00m\u001b[43m \u001b[49m\u001b[43mx\u001b[49m\u001b[43m,\u001b[49m\u001b[43my\u001b[49m\u001b[43m:\u001b[49m\u001b[43m(\u001b[49m\u001b[43mx\u001b[49m\u001b[38;5;241;43m%\u001b[39;49m\u001b[38;5;241;43m2\u001b[39;49m\u001b[38;5;241;43m==\u001b[39;49m\u001b[38;5;241;43m0\u001b[39;49m\u001b[43m \u001b[49m\u001b[43m,\u001b[49m\u001b[43ml5\u001b[49m\u001b[43m)\u001b[49m\u001b[43m \u001b[49m\u001b[38;5;129;43;01mand\u001b[39;49;00m\u001b[43m \u001b[49m\u001b[43m(\u001b[49m\u001b[43my\u001b[49m\u001b[38;5;241;43m%\u001b[39;49m\u001b[38;5;241;43m3\u001b[39;49m\u001b[38;5;241;43m==\u001b[39;49m\u001b[38;5;241;43m0\u001b[39;49m\u001b[43m)\u001b[49m\u001b[43m,\u001b[49m\u001b[43ml5\u001b[49m\u001b[43m)\u001b[49m\u001b[43m)\u001b[49m\n",
      "\u001b[0;31mTypeError\u001b[0m: <lambda>() missing 1 required positional argument: 'y'"
     ]
    }
   ],
   "source": [
    "l"
   ]
  },
  {
   "cell_type": "code",
   "execution_count": 20,
   "id": "071d35ba-9473-4f1e-886d-6e2d0b1a623a",
   "metadata": {},
   "outputs": [],
   "source": [
    "#Q6. Write a python program to find palindromes in the given list of strings using lambda and filter function.\n",
    "   #\n",
    "    "
   ]
  },
  {
   "cell_type": "code",
   "execution_count": 7,
   "id": "676a72f1-88c3-4719-a892-3eff681614c7",
   "metadata": {},
   "outputs": [],
   "source": [
    "l8=['python','php','aba','radar','level']"
   ]
  },
  {
   "cell_type": "code",
   "execution_count": 11,
   "id": "461b9818-931b-4939-9eeb-bfd552d0ace5",
   "metadata": {},
   "outputs": [
    {
     "data": {
      "text/plain": [
       "['python', 'php', 'aba', 'radar', 'level']"
      ]
     },
     "execution_count": 11,
     "metadata": {},
     "output_type": "execute_result"
    }
   ],
   "source": [
    "l8"
   ]
  },
  {
   "cell_type": "code",
   "execution_count": 45,
   "id": "ae65ba98-596d-40e3-b776-e498a4758dbd",
   "metadata": {},
   "outputs": [
    {
     "data": {
      "text/plain": [
       "['python', 'php', 'aba', 'radar', 'level']"
      ]
     },
     "execution_count": 45,
     "metadata": {},
     "output_type": "execute_result"
    }
   ],
   "source": [
    "list(filter(lambda x:x[::-1],l8))"
   ]
  },
  {
   "cell_type": "code",
   "execution_count": 46,
   "id": "6a66e83a-3725-4723-b7c7-ecec139087c7",
   "metadata": {},
   "outputs": [
    {
     "data": {
      "text/plain": [
       "['php', 'aba', 'radar', 'level']"
      ]
     },
     "execution_count": 46,
     "metadata": {},
     "output_type": "execute_result"
    }
   ],
   "source": [
    "list(filter(lambda x:x[::-1]==x,l8))"
   ]
  },
  {
   "cell_type": "code",
   "execution_count": null,
   "id": "9cac19c1-e61f-46b0-9fd3-ac846db0cfa6",
   "metadata": {},
   "outputs": [],
   "source": []
  }
 ],
 "metadata": {
  "kernelspec": {
   "display_name": "Python 3 (ipykernel)",
   "language": "python",
   "name": "python3"
  },
  "language_info": {
   "codemirror_mode": {
    "name": "ipython",
    "version": 3
   },
   "file_extension": ".py",
   "mimetype": "text/x-python",
   "name": "python",
   "nbconvert_exporter": "python",
   "pygments_lexer": "ipython3",
   "version": "3.10.8"
  }
 },
 "nbformat": 4,
 "nbformat_minor": 5
}
